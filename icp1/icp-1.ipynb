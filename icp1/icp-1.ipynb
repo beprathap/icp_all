{
 "cells": [
  {
   "cell_type": "code",
   "execution_count": null,
   "id": "4429546d",
   "metadata": {},
   "outputs": [],
   "source": [
    "\"\"\"\n",
    "reverseString method is\n",
    "* To remove at least two characters from the given input string\n",
    "* To reverse the result string and print output\n",
    "\"\"\"\n",
    "def reverseString(InputString, removeChars):\n",
    "    InputList = []\n",
    "    OutputString = \"\"\n",
    "    flag = 0\n",
    "    InputStringLength = len(InputString)\n",
    "    removeCharslength = len(removeChars)\n",
    "\n",
    "    if InputStringLength > 2 and removeCharslength >= 2:\n",
    "        for inputChar in InputString:\n",
    "            InputList.append(inputChar)\n",
    "            \n",
    "        for remChar in removeChars:\n",
    "            for character in InputList:\n",
    "                if character == remChar:\n",
    "                    InputList.remove(remChar)\n",
    "                    flag = 1\n",
    "                    \n",
    "        if flag == 0:\n",
    "            print('There is no such character to remove in Input String')\n",
    "        else:\n",
    "            for char in InputList:\n",
    "                OutputString += char\n",
    "        OutputString = OutputString[::-1]\n",
    "        print(OutputString)\n",
    "        \n",
    "    else:\n",
    "        print(\"Enter Valid Inputs\")\n",
    "\n",
    "InputString = input('Enter a string: ')\n",
    "removeChars = input('Enter characters to remove: ')\n",
    "\n",
    "reverseString(InputString,removeChars)"
   ]
  },
  {
   "cell_type": "code",
   "execution_count": null,
   "id": "23048ca8",
   "metadata": {},
   "outputs": [],
   "source": [
    "number_one = input('Enter first number: ')\n",
    "number_two = input('Enter second number: ')\n",
    "\n",
    "# Addition\n",
    "sum = float(number_one) + float(number_two)\n",
    "# Subtraction\n",
    "min = float(number_one) - float(number_two)\n",
    "# Multiplication\n",
    "mul = float(number_one) * float(number_two)\n",
    "# Division\n",
    "div = float(number_one) / float(number_two)\n",
    "\n",
    "print('The sum of {0} and {1} is {2}'.format(number_one, number_two, sum))\n",
    "print('The subtraction of {0} and {1} is {2}'.format(number_one, number_two, min))  \n",
    "print('The multiplication of {0} and {1} is {2}'.format(number_one, number_two, mul))  \n",
    "print('The division of {0} and {1} is {2}'.format(number_one, number_two, div))"
   ]
  },
  {
   "cell_type": "code",
   "execution_count": null,
   "id": "df61be4a",
   "metadata": {},
   "outputs": [],
   "source": [
    "# replaceWords method replaces the word python with pythons\n",
    "def replaceWords(str):\n",
    "    \n",
    "    modified_str = str.replace(\"python\", \"pythons\") \n",
    "    print(modified_str)\n",
    "\n",
    "str = input('Enter a senetence:')\n",
    "replaceWords(str)"
   ]
  },
  {
   "cell_type": "code",
   "execution_count": null,
   "id": "ad6553ae",
   "metadata": {},
   "outputs": [],
   "source": [
    "# marks are taken from the user\n",
    "marks = int(input('Enter Marks Obtained: '))\n",
    "\n",
    "if marks>=90 and marks<=100:\n",
    "    print(\"Your Grade is A\")\n",
    "elif marks>=80 and marks<89:\n",
    "    print(\"Your Grade is B\")\n",
    "elif marks>=70 and marks<79:\n",
    "    print(\"Your Grade is C\")\n",
    "elif marks>=60 and marks<69:\n",
    "    print(\"Your Grade is D\")\n",
    "elif marks>=0 and marks<60:\n",
    "    print(\"Your Grade is F\")\n",
    "else:\n",
    "    print(\"Invalid Input!\")"
   ]
  },
  {
   "cell_type": "code",
   "execution_count": null,
   "id": "1f89bddf",
   "metadata": {},
   "outputs": [],
   "source": []
  }
 ],
 "metadata": {
  "kernelspec": {
   "display_name": "Python 3 (ipykernel)",
   "language": "python",
   "name": "python3"
  },
  "language_info": {
   "codemirror_mode": {
    "name": "ipython",
    "version": 3
   },
   "file_extension": ".py",
   "mimetype": "text/x-python",
   "name": "python",
   "nbconvert_exporter": "python",
   "pygments_lexer": "ipython3",
   "version": "3.9.13"
  }
 },
 "nbformat": 4,
 "nbformat_minor": 5
}
