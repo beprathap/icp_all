{
 "cells": [
  {
   "cell_type": "code",
   "execution_count": 12,
   "id": "66af027c",
   "metadata": {},
   "outputs": [
    {
     "name": "stdout",
     "output_type": "stream",
     "text": [
      "Average Salary: 500.0\n"
     ]
    }
   ],
   "source": [
    "# create a Employee class\n",
    "class Employee(object):\n",
    "    # create a data member to count the number of Employees\n",
    "    employeeCount = 0\n",
    "\n",
    "    # create a constructor to initialize variables\n",
    "    def __init__(self, name, family, salary, department):\n",
    "        self.name = name\n",
    "        self.family = family\n",
    "        self.salary = salary\n",
    "        self.department = department\n",
    "        Employee.employeeCount += 1\n",
    "\n",
    "    # create a function to average salary\n",
    "    def average_salary(self):\n",
    "        return self.salary / Employee.employeeCount\n",
    "\n",
    "# create a Fulltime Employee class tkok inherit the properties of Employee class\n",
    "class FulltimeEmployee(Employee):\n",
    "    def __init__(self, name, family, salary, department):\n",
    "        Employee.__init__(self, name, family, salary, department)\n",
    "\n",
    "Employee_One = Employee(\"Prathap\", \"Boddu\", 1000, \"IT\")\n",
    "Employee_Two = FulltimeEmployee(\"Siddu\", \"Katta\", 2000, \"Marketing\")\n",
    "\n",
    "print(\"Average Salary:\", Employee_One.average_salary())"
   ]
  },
  {
   "cell_type": "code",
   "execution_count": 1,
   "id": "70d91a19",
   "metadata": {},
   "outputs": [
    {
     "name": "stdout",
     "output_type": "stream",
     "text": [
      "[[ 2.8598382  17.71237138 14.3538226   0.          5.95496805]\n",
      " [ 0.          2.23773923 13.64836067  8.98679133  1.26413173]\n",
      " [ 6.48855674  1.32567986 10.05520168  0.          6.38842617]\n",
      " [ 2.98658322  9.45674619  0.         17.59829801 11.60048845]]\n"
     ]
    }
   ],
   "source": [
    "import numpy as np\n",
    "\n",
    "# numpy array with random values in 4 by 5 size\n",
    "randNumArray = np.random.uniform(low=1, high=20, size=(4,5))\n",
    "\n",
    "# finding the indices with maximum values\n",
    "maxIndices = np.argmax(randNumArray, axis=1)\n",
    "\n",
    "# finding the row indices\n",
    "rowIndices = np.arange(randNumArray.shape[0])\n",
    "\n",
    "# finding the exact positions of maximium valuesin the array\n",
    "positionIndices = np.array([rowIndices, maxIndices])\n",
    "\n",
    "# to convert the array into an array of flat indices\n",
    "linearIndices = np.ravel_multi_index(positionIndices, randNumArray.shape)\n",
    "\n",
    "# reshaping the linear array into multi dimensionanl array\n",
    "randNumArray.reshape((-1))[linearIndices] = 0\n",
    "\n",
    "print(randNumArray)"
   ]
  },
  {
   "cell_type": "code",
   "execution_count": null,
   "id": "61f3ebca",
   "metadata": {},
   "outputs": [],
   "source": []
  }
 ],
 "metadata": {
  "kernelspec": {
   "display_name": "Python 3 (ipykernel)",
   "language": "python",
   "name": "python3"
  },
  "language_info": {
   "codemirror_mode": {
    "name": "ipython",
    "version": 3
   },
   "file_extension": ".py",
   "mimetype": "text/x-python",
   "name": "python",
   "nbconvert_exporter": "python",
   "pygments_lexer": "ipython3",
   "version": "3.9.13"
  }
 },
 "nbformat": 4,
 "nbformat_minor": 5
}
