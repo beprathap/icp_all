{
 "cells": [
  {
   "cell_type": "code",
   "execution_count": 11,
   "id": "4d6e1d18",
   "metadata": {},
   "outputs": [
    {
     "name": "stdout",
     "output_type": "stream",
     "text": [
      "Enter your first Name: Prathap\n",
      "Enter your last Name: Boddu\n",
      "Your full name is  Prathap Boddu\n",
      "Enter a string to print alternate characters: Good evening\n",
      "Alternative characters are Go vnn\n"
     ]
    }
   ],
   "source": [
    "# method to print full name\n",
    "def fullName(fName, lName):\n",
    "    Full_name = fName + \" \" + lName\n",
    "    print(\"Your full name is \", Full_name)\n",
    "    \n",
    "# method to print alternative characters of a string\n",
    "def string_alternative(str):\n",
    "    print(\"Alternative characters are \" + str[::2])\n",
    "    \n",
    "if __name__ == \"__main__\":\n",
    "    fName = input(\"Enter your first Name: \")\n",
    "    lName = input(\"Enter your last Name: \")\n",
    "    fullName(fName, lName)\n",
    "    str = input(\"Enter a string to print alternate characters: \")\n",
    "    string_alternative(str)"
   ]
  },
  {
   "cell_type": "code",
   "execution_count": 16,
   "id": "96498e1a",
   "metadata": {},
   "outputs": [],
   "source": [
    "# input data is read and word count is calculated.\n",
    "# the calculated data is then written on to the output file\n",
    "dataDict = dict()\n",
    "\n",
    "inputFile = open(\"task2_input.txt\", \"r\")\n",
    "outputFile = open(\"task2_output.txt\", \"w\")\n",
    "\n",
    "for line in inputFile:\n",
    "    \n",
    "    line = line.strip()\n",
    "    line = line.lower()\n",
    "    words = line.split(\" \")\n",
    "    \n",
    "    for word in words:\n",
    "        if word in dataDict:\n",
    "            dataDict[word] = dataDict[word] + 1\n",
    "        else:\n",
    "            dataDict[word] = 1\n",
    "            \n",
    "outputFile.write('Word_Count:\\n\\n')\n",
    "\n",
    "for key, value in dataDict.items():\n",
    "    outputFile.write('%s:%s\\n' % (key, value))\n",
    "    "
   ]
  },
  {
   "cell_type": "code",
   "execution_count": 15,
   "id": "75ed5a78",
   "metadata": {},
   "outputs": [
    {
     "name": "stdout",
     "output_type": "stream",
     "text": [
      "Enter size of list: 3\n",
      "182\n",
      "155\n",
      "162\n",
      "[462.28000000000003, 393.7, 411.48]\n"
     ]
    }
   ],
   "source": [
    "# below code snippet is the conversion of heights from inches to cms\n",
    "# using Nested Interactive loop & List comprehensions\n",
    "heightsList = []\n",
    "elements = int(input(\"Enter size of list: \"))\n",
    "for e in range(elements):\n",
    "    heightsList.append(float(input()))\n",
    "tempHeightsList = [2.54 * item for item in heightsList]\n",
    "print(tempHeightsList)"
   ]
  },
  {
   "cell_type": "code",
   "execution_count": null,
   "id": "70bfd412",
   "metadata": {},
   "outputs": [],
   "source": []
  }
 ],
 "metadata": {
  "kernelspec": {
   "display_name": "Python 3 (ipykernel)",
   "language": "python",
   "name": "python3"
  },
  "language_info": {
   "codemirror_mode": {
    "name": "ipython",
    "version": 3
   },
   "file_extension": ".py",
   "mimetype": "text/x-python",
   "name": "python",
   "nbconvert_exporter": "python",
   "pygments_lexer": "ipython3",
   "version": "3.9.13"
  }
 },
 "nbformat": 4,
 "nbformat_minor": 5
}
